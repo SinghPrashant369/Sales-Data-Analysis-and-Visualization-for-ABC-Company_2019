{
 "cells": [
  {
   "cell_type": "markdown",
   "id": "6725f11e",
   "metadata": {},
   "source": [
    "# Data Preparation"
   ]
  },
  {
   "cell_type": "markdown",
   "id": "fe6bfd15",
   "metadata": {},
   "source": [
    "# 1. Merge data from each month into one CSV and in updated DataFrame"
   ]
  },
  {
   "cell_type": "code",
   "execution_count": 1,
   "id": "59d53eb3",
   "metadata": {},
   "outputs": [],
   "source": [
    "#Import os module\n",
    "import os\n",
    "\n",
    "#Import pandas library\n",
    "import pandas as pd\n",
    "#Import matplotlib library for creating static, animated, and interactive visualiatins\n",
    "import matplotlib.pyplot as plt\n",
    "\n",
    "\n",
    "\n"
   ]
  },
  {
   "cell_type": "code",
   "execution_count": null,
   "id": "12cb1c74",
   "metadata": {},
   "outputs": [],
   "source": [
    "#define the directory path where all the files are located\n",
    "directory_path=\"Sales Analysis 2019/\"\n",
    "print(directory_path) #later remove\n"
   ]
  },
  {
   "cell_type": "code",
   "execution_count": null,
   "id": "35950ee7",
   "metadata": {},
   "outputs": [],
   "source": [
    "#List all the files that are in the \"Sales Analysis 2019\" directory in the form of list\n",
    "file_list=os.listdir(directory_path)\n",
    "file_list     #either it will be .csv or .docx files, it display all the files #remove later\n"
   ]
  },
  {
   "cell_type": "code",
   "execution_count": null,
   "id": "aec83292",
   "metadata": {},
   "outputs": [],
   "source": [
    "#Filter out non-CSV files  i.e only .CSV file is added\n",
    "#Create an empty list named as csv_files\n",
    "csv_files_2019=[]\n",
    "for file in file_list: # for loop in the file_list\n",
    "    if file.endswith('.csv'):  #search for the .csv extension\n",
    "        csv_files_2019.append(file) #add the .CSV file(s) in csv_files list \n",
    "csv_files_2019"
   ]
  },
  {
   "cell_type": "code",
   "execution_count": null,
   "id": "53b3804f",
   "metadata": {},
   "outputs": [],
   "source": [
    "#Create an empty DataFrame \"merged_data_12Months_2019\" to store all the 12 months data\n",
    "merged_data_12Months_2019=pd.DataFrame()\n",
    "for file in csv_files_2019: #for loop in the csv_files\n",
    "    file_path=os.path.join(directory_path,file)  #Eg Sales Analysis 2019/Sales_January_2019\n",
    "    data=pd.read_csv(file_path)  #Retrive the data from CSV files\n",
    "    merged_data_12Months_2019=pd.concat([merged_data_12Months_2019,data], ignore_index=True)  #Concatination of heavy lifting files\n",
    "merged_data_12Months_2019"
   ]
  },
  {
   "cell_type": "code",
   "execution_count": null,
   "id": "734ccef5",
   "metadata": {},
   "outputs": [],
   "source": [
    "'''check if \"merged_data_12Months_2019.csv\" exists or not\n",
    "if exists run if statement. if not then run else statement'''\n",
    "\n",
    "if os.path.exists('merged_data_12Months_2019.csv'):   \n",
    "    print(\"merged_data_12Months_2019.csv already exists !!!\")\n",
    "else: \n",
    "    \n",
    "    #Export and save merged_data_12Months_2019 DataFrame to a CSV file named \"merged_data_12Months_2019.csv\" \n",
    "    merged_data_12Months_2019.to_csv('merged_data_12Months_2019.csv', index=False) #ignore index\n",
    "    print(\"Merged data of 12 months saved to merged_data_12Months_2019.csv\")\n",
    "\n"
   ]
  },
  {
   "cell_type": "markdown",
   "id": "c40e59b9",
   "metadata": {},
   "source": [
    "# 2. Remove the NaN missing values from the updated dataframe"
   ]
  },
  {
   "cell_type": "markdown",
   "id": "f181ee05",
   "metadata": {},
   "source": [
    "***Checking missing vallues***"
   ]
  },
  {
   "cell_type": "code",
   "execution_count": null,
   "id": "0712efa6",
   "metadata": {},
   "outputs": [],
   "source": [
    "#merged_data_12Months_2019.isna().head(258) #Checking missing values\n",
    "#merged_data_12Months_2019.head(258)        #first 258  ordered rows\n",
    "merged_data_12Months_2019.isna()\n",
    "merged_data_12Months_2019.head(258)\n"
   ]
  },
  {
   "cell_type": "markdown",
   "id": "fc5045e3",
   "metadata": {},
   "source": [
    "***Droping missing values***"
   ]
  },
  {
   "cell_type": "code",
   "execution_count": null,
   "id": "cc8a764a",
   "metadata": {},
   "outputs": [],
   "source": [
    "#merged_data_12Months_2019=merged_data_12Months_2019.dropna().head(258) #Removing NaN values using dropna() method \n",
    "#merged_data_12Months_2019\n",
    "                                            #first 258 ordered rows\n",
    "    \n",
    "\n",
    "merged_data_12Months_2019=merged_data_12Months_2019.dropna()\n",
    "merged_data_12Months_2019.head(258)"
   ]
  },
  {
   "cell_type": "code",
   "execution_count": null,
   "id": "6395981d",
   "metadata": {},
   "outputs": [],
   "source": [
    "merged_data_12Months_2019"
   ]
  },
  {
   "cell_type": "markdown",
   "id": "afd60528",
   "metadata": {},
   "source": [
    "# 3. To convert \"Quantity Ordered\" and \"Price Each\" to numeric"
   ]
  },
  {
   "cell_type": "code",
   "execution_count": null,
   "id": "3a00bcf7",
   "metadata": {},
   "outputs": [],
   "source": [
    "print(merged_data_12Months_2019.dtypes)"
   ]
  },
  {
   "cell_type": "markdown",
   "id": "e8d85162",
   "metadata": {},
   "source": [
    "***Convert \"Quantity Ordered\" and \"Price Each\" columns to numeric***"
   ]
  },
  {
   "cell_type": "code",
   "execution_count": null,
   "id": "dba6b3a4",
   "metadata": {
    "scrolled": true
   },
   "outputs": [],
   "source": [
    "#Using dictionary to convert the data type of  specific colums\n",
    "convert_dict={'Quantity Ordered': int,\n",
    "              'Price Each': float\n",
    "    \n",
    "}\n",
    "merged_data_12Months_2019=merged_data_12Months_2019.astype(convert_dict)\n",
    "print(merged_data_12Months_2019.dtypes)"
   ]
  },
  {
   "cell_type": "markdown",
   "id": "c1ba85fe",
   "metadata": {},
   "source": [
    "# 4. Create a new column named Month from Ordered Date of updated dataframe and convert it to integer as data type."
   ]
  },
  {
   "cell_type": "code",
   "execution_count": null,
   "id": "b19aadf3",
   "metadata": {},
   "outputs": [],
   "source": [
    "merged_data_12Months_2019.columns #Display all the columns"
   ]
  },
  {
   "cell_type": "code",
   "execution_count": null,
   "id": "c8ed8c61",
   "metadata": {},
   "outputs": [],
   "source": [
    "#Convert \"Order Date\" to datetime\n",
    "merged_data_12Months_2019['Order Date']=pd.to_datetime(merged_data_12Months_2019['Order Date'])\n",
    "\n",
    "#Extract month from \"Ordered Date\"\n",
    "merged_data_12Months_2019['Month']=merged_data_12Months_2019['Order Date'].dt.month\n",
    "#convert \"Month\" to integer\n",
    "merged_data_12Months_2019['Month']=merged_data_12Months_2019['Month'].astype(int)\n",
    "\n",
    "print(merged_data_12Months_2019.dtypes)\n",
    "merged_data_12Months_2019\n"
   ]
  },
  {
   "cell_type": "markdown",
   "id": "550ae24d",
   "metadata": {},
   "source": [
    "# 5. Create a new column named City from Purchase Address based on the value in updated dataframe. "
   ]
  },
  {
   "cell_type": "code",
   "execution_count": null,
   "id": "28083bfa",
   "metadata": {},
   "outputs": [],
   "source": [
    "#Create an empty list to store extracted city names from \"Purchase Address\"\n",
    "city_list=[]\n",
    "\n",
    "#Loop through each address in the \"Purchase Address\" column\n",
    "for address in merged_data_12Months_2019['Purchase Address']: \n",
    "    \n",
    "    #Split the address by comma and extract the element at the index 1 i.e city name\n",
    "    city=address.split(',')[1]\n",
    "    \n",
    "    #add the extracted city name in city_list\n",
    "    city_list.append(city)\n",
    "#Assign the city_list to a new \"City\" column in the dataframe\n",
    "merged_data_12Months_2019['City']=city_list\n",
    "merged_data_12Months_2019\n"
   ]
  },
  {
   "cell_type": "markdown",
   "id": "e71719bb",
   "metadata": {},
   "source": [
    "# Data Analysis"
   ]
  },
  {
   "cell_type": "markdown",
   "id": "e891ea62",
   "metadata": {},
   "source": [
    "***1. Write a Python program to show summary statistics of sum, mean, standard deviation, skewness, and kurtosis of any chosen variable***"
   ]
  },
  {
   "cell_type": "code",
   "execution_count": null,
   "id": "d0a8b741",
   "metadata": {},
   "outputs": [],
   "source": [
    "merged_data"
   ]
  },
  {
   "cell_type": "markdown",
   "id": "f91baa75",
   "metadata": {},
   "source": [
    "# Data Exploration"
   ]
  },
  {
   "cell_type": "markdown",
   "id": "b8ef804c",
   "metadata": {},
   "source": [
    "***1. Which Month has the best sales? and how much was the earning in that month? Make a bar graph of sales as well.***"
   ]
  },
  {
   "cell_type": "code",
   "execution_count": null,
   "id": "921b77b9",
   "metadata": {},
   "outputs": [],
   "source": [
    "#Add 'Total Sales' column\n",
    "#Calculate total sales for each day\n",
    "\n",
    "merged_data_12Months_2019['Total Sales']=merged_data_12Months_2019['Quantity Ordered'] * merged_data_12Months_2019['Price Each']\n",
    "merged_data_12Months_2019.head()\n",
    "\n"
   ]
  },
  {
   "cell_type": "code",
   "execution_count": null,
   "id": "6c5e9d57",
   "metadata": {},
   "outputs": [],
   "source": [
    "#group by months and add the sales of each month\n",
    "all_month_sales=merged_data_12Months_2019.groupby('Month').sum()\n",
    "all_month_sales\n",
    "\n"
   ]
  },
  {
   "cell_type": "code",
   "execution_count": null,
   "id": "b8f6018b",
   "metadata": {},
   "outputs": [],
   "source": [
    "#re indixing the aall_month_sales df\n",
    "all_month_sales=all_month_sales.reset_index()\n",
    "all_month_sales\n"
   ]
  },
  {
   "cell_type": "code",
   "execution_count": null,
   "id": "0242d9ed",
   "metadata": {},
   "outputs": [],
   "source": [
    "#find the maximum value in the 'Total Sales' column\n",
    "max_sales=all_month_sales['Total Sales'].max()\n",
    "max_sales"
   ]
  },
  {
   "cell_type": "code",
   "execution_count": null,
   "id": "c4b99ff9",
   "metadata": {},
   "outputs": [],
   "source": [
    "#Filter the row with the maximum value\n",
    "max_sales_rows=all_month_sales[all_month_sales['Total Sales']==max_sales]\n",
    "max_sales_rows                                \n",
    "                                 \n",
    "                                 \n",
    "                                 "
   ]
  },
  {
   "cell_type": "markdown",
   "id": "d3a14fb0",
   "metadata": {},
   "source": [
    "**Visualizing our results**"
   ]
  },
  {
   "cell_type": "code",
   "execution_count": null,
   "id": "ffed33fd",
   "metadata": {},
   "outputs": [],
   "source": [
    "months=['Jan','Feb','Mar','Apr','May','Jun','Jul','Aug','Sept','Oct','Nov','Dec'] #for x axes\n",
    "results=merged_data_12Months_2019.groupby('Month').sum()\n",
    "sales=results['Total Sales']\n",
    "#print(sales)\n",
    "\n",
    "plt.ticklabel_format(style='plain')  # removing le6 from bar graph\n",
    "plt.bar(months,sales, color=\"black\")\n",
    "plt.xlabel(\"Months\")\n",
    "plt.ylabel(\"sales in USD\")\n",
    "plt.title(\"Sales in different Months in 2019/Sales Distribution\", color=\"maroon\")\n",
    "\n",
    "plt.show()\n",
    "\n",
    "\n"
   ]
  },
  {
   "cell_type": "code",
   "execution_count": null,
   "id": "9bad809e",
   "metadata": {},
   "outputs": [],
   "source": []
  },
  {
   "cell_type": "code",
   "execution_count": null,
   "id": "a40db1a9",
   "metadata": {},
   "outputs": [],
   "source": []
  },
  {
   "cell_type": "code",
   "execution_count": null,
   "id": "e12a48f7",
   "metadata": {},
   "outputs": [],
   "source": []
  },
  {
   "cell_type": "code",
   "execution_count": null,
   "id": "935d277b",
   "metadata": {},
   "outputs": [],
   "source": []
  },
  {
   "cell_type": "markdown",
   "id": "289d00c4",
   "metadata": {},
   "source": [
    "**fig: Visualizing our results using matplotlib library**"
   ]
  },
  {
   "cell_type": "markdown",
   "id": "28fe5ddf",
   "metadata": {},
   "source": [
    "***2. Which city has sold the highest product?***"
   ]
  },
  {
   "cell_type": "code",
   "execution_count": null,
   "id": "929d40f5",
   "metadata": {},
   "outputs": [],
   "source": [
    "#group by city and. add the sales of each each city\n",
    "\n",
    "all_city_sales=merged_data_12Months_2019.groupby('City').sum()\n",
    "\n",
    "all_city_sales"
   ]
  },
  {
   "cell_type": "code",
   "execution_count": null,
   "id": "7e77d44b",
   "metadata": {},
   "outputs": [],
   "source": [
    "#re indixing the city column of all_city_sales df\n",
    "all_city_sales=all_city_sales.reset_index()\n",
    "all_city_sales"
   ]
  },
  {
   "cell_type": "code",
   "execution_count": null,
   "id": "8ba67f6e",
   "metadata": {},
   "outputs": [],
   "source": []
  },
  {
   "cell_type": "code",
   "execution_count": null,
   "id": "38a85a2d",
   "metadata": {},
   "outputs": [],
   "source": [
    "#find the maximum value in the 'Total Sales' column\n",
    "max_sales1=all_city_sales['Total Sales'].max()\n",
    "max_sales1"
   ]
  },
  {
   "cell_type": "code",
   "execution_count": null,
   "id": "d4ef2af0",
   "metadata": {},
   "outputs": [],
   "source": [
    "#Filter the row with the maximum value\n",
    "max_sales_rows1=all_city_sales[all_city_sales['Total Sales']==max_sales1]\n",
    "max_sales_rows1   "
   ]
  },
  {
   "cell_type": "markdown",
   "id": "b7b21fe3",
   "metadata": {},
   "source": [
    "***Visualising our result***"
   ]
  },
  {
   "cell_type": "code",
   "execution_count": null,
   "id": "4b314b89",
   "metadata": {},
   "outputs": [],
   "source": [
    "cities=all_city_sales['City'].unique()\n",
    "\n",
    "plt.bar(cities,all_city_sales['Total Sales'],color=\"black\")\n",
    "plt.xticks(cities,rotation='vertical',size=8)\n",
    "\n",
    "plt.xlabel(\"City Name\")\n",
    "plt.ylabel('Sales in million USD')\n",
    "plt.title(\"Sales in different Cities in 2019\")\n",
    "plt.show()\n",
    "\n"
   ]
  },
  {
   "cell_type": "markdown",
   "id": "f08d4235",
   "metadata": {},
   "source": [
    "**fig: plotting the sales grouped by Cities**"
   ]
  },
  {
   "cell_type": "markdown",
   "id": "793524b0",
   "metadata": {},
   "source": [
    "***3. Which product was sold the most in overall? Illustrate it through bar graph.***"
   ]
  },
  {
   "cell_type": "code",
   "execution_count": null,
   "id": "99b87885",
   "metadata": {},
   "outputs": [],
   "source": [
    "'''#group by city and. add the sales of each each city\n",
    "\n",
    "all_city_sales=merged_data_12Months_2019.groupby('City').sum()\n",
    "\n",
    "\n",
    "all_city_sales'''\n",
    "merged_data_12Months_2019.head()"
   ]
  },
  {
   "cell_type": "code",
   "execution_count": null,
   "id": "18bfdda3",
   "metadata": {},
   "outputs": [],
   "source": [
    "#group by product and add the sale of each product\n",
    "all_product_sales=merged_data_12Months_2019.groupby('Product').sum()\n",
    "all_product_sales"
   ]
  },
  {
   "cell_type": "code",
   "execution_count": null,
   "id": "b3285c9a",
   "metadata": {},
   "outputs": [],
   "source": [
    "'''#re indixing the city column of all_city_sales df\n",
    "all_city_sales=all_city_sales.reset_index()\n",
    "all_city_sales\n",
    "\n",
    "'''\n",
    "#re-indixing the Product column of all_product_sales\n",
    "all_product_sales=all_product_sales.reset_index()\n",
    "all_product_sales"
   ]
  },
  {
   "cell_type": "code",
   "execution_count": null,
   "id": "cd1512a2",
   "metadata": {},
   "outputs": [],
   "source": [
    "products=all_product_sales['Product']\n",
    "plt.bar(products,all_product_sales['Quantity Ordered'], color=\"black\")\n",
    "plt.xlabel(\"Product\")\n",
    "plt.xticks(products,rotation='vertical', size=8)\n",
    "plt.ylabel(\"Quantity Ordered\")\n",
    "plt.title(\"Quantity Ordered in different products\",color=\"maroon\")\n",
    "plt.show()"
   ]
  },
  {
   "cell_type": "markdown",
   "id": "cce3e4ea",
   "metadata": {},
   "source": [
    "***4. Write a Python program to show histogram plot of any chosen variables. Use proper labels in the graph.***"
   ]
  },
  {
   "cell_type": "code",
   "execution_count": null,
   "id": "fbff36d8",
   "metadata": {},
   "outputs": [],
   "source": [
    "months=['Jan','Feb','Mar','Apr','May','Jun','Jul','Aug','Sept','Oct','Nov','Dec'] #for x axes\n",
    "results=merged_data_12Months_2019.groupby('Month').sum()\n",
    "sales=results['Total Sales']\n",
    "#print(sales)\n",
    "\n",
    "plt.ticklabel_format(style='plain')  # removing le6 from bar graph\n",
    "plt.bar(months,sales, color=\"black\")\n",
    "plt.xlabel(\"Months\")\n",
    "plt.ylabel(\"sales in USD\")\n",
    "plt.title(\"Sales in different Months in 2019/Sales Distribution\", color=\"maroon\")\n",
    "\n",
    "plt.show()"
   ]
  },
  {
   "cell_type": "code",
   "execution_count": null,
   "id": "c15c23e4",
   "metadata": {},
   "outputs": [],
   "source": [
    "quantity=range(1,5,1)\n",
    "quantity_ordered=[merged_data_12Months_2019['Quantity Ordered']]\n",
    "plt.hist(quantity,quantity_ordered,rwidth=0.8)\n",
    "plt"
   ]
  },
  {
   "cell_type": "code",
   "execution_count": null,
   "id": "5c78e5ba",
   "metadata": {},
   "outputs": [],
   "source": [
    "merged_data_12Months_2019\n",
    "\n",
    "\n"
   ]
  },
  {
   "cell_type": "code",
   "execution_count": null,
   "id": "114122b3",
   "metadata": {
    "scrolled": true
   },
   "outputs": [],
   "source": [
    "quantity_ordered=list(merged_data_12Months_2019['Quantity Ordered'])\n",
    "\n",
    "quantity=list(merged_data_12Months_2019['Quantity Ordered'].unique())\n",
    "quantity\n",
    "quantity_group=range(0,11,2)\n",
    "plt.hist(quantity_ordered,quantity_group,rwidth=0.8)\n",
    "plt.yticks(range(0,200000,10000))\n",
    "plt.show()\n",
    "\n",
    "\n"
   ]
  }
 ],
 "metadata": {
  "kernelspec": {
   "display_name": "Python 3 (ipykernel)",
   "language": "python",
   "name": "python3"
  },
  "language_info": {
   "codemirror_mode": {
    "name": "ipython",
    "version": 3
   },
   "file_extension": ".py",
   "mimetype": "text/x-python",
   "name": "python",
   "nbconvert_exporter": "python",
   "pygments_lexer": "ipython3",
   "version": "3.9.13"
  }
 },
 "nbformat": 4,
 "nbformat_minor": 5
}
