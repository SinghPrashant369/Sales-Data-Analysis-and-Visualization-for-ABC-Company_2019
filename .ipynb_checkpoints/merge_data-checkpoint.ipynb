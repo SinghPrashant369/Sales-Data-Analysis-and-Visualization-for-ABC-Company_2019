{
 "cells": [
  {
   "cell_type": "markdown",
   "id": "fe6bfd15",
   "metadata": {},
   "source": [
    "# Lets try another"
   ]
  },
  {
   "cell_type": "code",
   "execution_count": 1,
   "id": "59d53eb3",
   "metadata": {},
   "outputs": [],
   "source": [
    "import os\n",
    "import pandas as pd"
   ]
  },
  {
   "cell_type": "code",
   "execution_count": 2,
   "id": "12cb1c74",
   "metadata": {},
   "outputs": [
    {
     "name": "stdout",
     "output_type": "stream",
     "text": [
      "Sales Analysis 2019/\n"
     ]
    }
   ],
   "source": [
    "#define the directory path where the fileds are located\n",
    "directory_path=\"Sales Analysis 2019/\"\n",
    "print(directory_path) #later remove\n"
   ]
  },
  {
   "cell_type": "code",
   "execution_count": 3,
   "id": "35950ee7",
   "metadata": {},
   "outputs": [
    {
     "data": {
      "text/plain": [
       "['Sales_December_2019.csv',\n",
       " 'Sales_April_2019.csv',\n",
       " 'Sales_February_2019.csv',\n",
       " 'Sales_March_2019.csv',\n",
       " 'Sales_August_2019.csv',\n",
       " 'Sales_May_2019.csv',\n",
       " 'Sales_November_2019.csv',\n",
       " 'Sales_October_2019.csv',\n",
       " 'Sales_January_2019.csv',\n",
       " 'iugigigiguuggg.docx',\n",
       " 'Sales_September_2019.csv',\n",
       " 'Sales_July_2019.csv',\n",
       " 'Sales_June_2019.csv']"
      ]
     },
     "execution_count": 3,
     "metadata": {},
     "output_type": "execute_result"
    }
   ],
   "source": [
    "file_list=os.listdir(directory_path)   #list all the files which are in the \"Sales Analysis 2019\"\n",
    "file_list     #either it will be .csv or .docx files, it display all the files #remove later\n"
   ]
  },
  {
   "cell_type": "code",
   "execution_count": 4,
   "id": "aec83292",
   "metadata": {},
   "outputs": [
    {
     "data": {
      "text/plain": [
       "['Sales_December_2019.csv',\n",
       " 'Sales_April_2019.csv',\n",
       " 'Sales_February_2019.csv',\n",
       " 'Sales_March_2019.csv',\n",
       " 'Sales_August_2019.csv',\n",
       " 'Sales_May_2019.csv',\n",
       " 'Sales_November_2019.csv',\n",
       " 'Sales_October_2019.csv',\n",
       " 'Sales_January_2019.csv',\n",
       " 'Sales_September_2019.csv',\n",
       " 'Sales_July_2019.csv',\n",
       " 'Sales_June_2019.csv']"
      ]
     },
     "execution_count": 4,
     "metadata": {},
     "output_type": "execute_result"
    }
   ],
   "source": [
    "#Filter out non-CSV files  i.e\n",
    "\n",
    "csv_files=[]\n",
    "for file in file_list:\n",
    "    if file.endswith('.csv'):\n",
    "        csv_files.append(file)\n",
    "csv_files"
   ]
  },
  {
   "cell_type": "code",
   "execution_count": null,
   "id": "f7b34fde",
   "metadata": {},
   "outputs": [],
   "source": [
    "#herum k huncha\n",
    "merged_data=pd.DataFrame()\n",
    "for file in csv_files: \n",
    "    file_path=os.path.join(directory_path,file)\n",
    "    data=pd.read_csv(file_path)\n",
    "    merged_data=pd.concat([merged_data,data], ignore_index=True)\n",
    "merged_data"
   ]
  },
  {
   "cell_type": "code",
   "execution_count": 5,
   "id": "62624e6d",
   "metadata": {},
   "outputs": [
    {
     "name": "stdout",
     "output_type": "stream",
     "text": [
      "Merged data.csv already exists\n"
     ]
    }
   ],
   "source": [
    "#check if merged data file already exists\n",
    "\n",
    "if os.path.exists('merged_data.csv'):\n",
    "    print(\"Merged data.csv already exists\")\n",
    "else: \n",
    "    #Create an empty DataFrame to store the merged data\n",
    "    '''merged_data=pd.DataFrame()\n",
    "    for file in csv_files: \n",
    "        file_path=os.path.join(directory_path,file)\n",
    "        data=pd.read_csv(file_path)\n",
    "        merged_data=pd.concat([merged_data,data], ignore_index=True)\n",
    "    print(\"Chaina\")'''\n",
    "    merged_data.to_csv('merged_data.csv', index=False)\n",
    "    print(\"Merging of CSV files complete, Merged data saved to merged_data.csv\")\n",
    "\n"
   ]
  },
  {
   "cell_type": "code",
   "execution_count": null,
   "id": "9ebdc087",
   "metadata": {},
   "outputs": [],
   "source": [
    "#Create an empty DataFrame to store the merged data\n",
    "#merged_data=pd.DataFrame()"
   ]
  },
  {
   "cell_type": "code",
   "execution_count": null,
   "id": "ba5ee6c2",
   "metadata": {},
   "outputs": [],
   "source": [
    "'''for file in csv_files:\n",
    "    file_path=os.path.join(directory_path,file)\n",
    "    data=pd.read_csv(file_path)\n",
    "    merged_data=pd.concat([merged_data,data], ignore_index=True)\n",
    "merged_data'''"
   ]
  },
  {
   "cell_type": "code",
   "execution_count": null,
   "id": "30393a4e",
   "metadata": {},
   "outputs": [],
   "source": []
  },
  {
   "cell_type": "code",
   "execution_count": null,
   "id": "8f82aeff",
   "metadata": {},
   "outputs": [],
   "source": [
    "'''#Loop through each CSV file, read it into a DataFrame, \n",
    "#and merge it with the merged_data DataFrame\n",
    "for file in csv_files: \n",
    "    file_path=os.path.join(directory_path,file)  #eg: Sales Analysis 2019/Sales_December_2019.csv\n",
    "                                                #Sales Analysis 2019/Sales_April_2019.csv\n",
    "                                                #All twelve months\n",
    "    \n",
    "    data=pd.read_csv(file_path)                 #In the place of file_path will be Sales Analysis 2019/Sales_December_2019.csv and loop till the end of the month\n",
    "    merged_data=merged_data.append(data)        #append the .csv file in the merged_data variable\n",
    "    #merged_data=merged_data.pd.concat([data])'''\n",
    "    \n",
    "\n",
    "\n",
    "    "
   ]
  },
  {
   "cell_type": "code",
   "execution_count": null,
   "id": "46fd09e5",
   "metadata": {},
   "outputs": [],
   "source": [
    "#save the merged data to a CSV file\n",
    "merged_data.to_csv('merged_data.csv', index=False)\n",
    "print(\"Merging of CSV files complete, Merged data saved to merged_data.csv\")"
   ]
  }
 ],
 "metadata": {
  "kernelspec": {
   "display_name": "Python 3 (ipykernel)",
   "language": "python",
   "name": "python3"
  },
  "language_info": {
   "codemirror_mode": {
    "name": "ipython",
    "version": 3
   },
   "file_extension": ".py",
   "mimetype": "text/x-python",
   "name": "python",
   "nbconvert_exporter": "python",
   "pygments_lexer": "ipython3",
   "version": "3.9.13"
  }
 },
 "nbformat": 4,
 "nbformat_minor": 5
}
