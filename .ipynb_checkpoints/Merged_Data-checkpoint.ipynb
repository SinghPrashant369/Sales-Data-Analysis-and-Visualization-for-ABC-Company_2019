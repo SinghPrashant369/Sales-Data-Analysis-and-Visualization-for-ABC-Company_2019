{
 "cells": [
  {
   "cell_type": "markdown",
   "id": "fe6bfd15",
   "metadata": {},
   "source": [
    "# Lets try another"
   ]
  },
  {
   "cell_type": "code",
   "execution_count": 1,
   "id": "59d53eb3",
   "metadata": {},
   "outputs": [],
   "source": [
    "import os\n",
    "import pandas as pd"
   ]
  },
  {
   "cell_type": "code",
   "execution_count": 2,
   "id": "12cb1c74",
   "metadata": {},
   "outputs": [
    {
     "name": "stdout",
     "output_type": "stream",
     "text": [
      "Sales Analysis 2019/\n"
     ]
    }
   ],
   "source": [
    "#define the directory path where the fileds are located\n",
    "directory_path=\"Sales Analysis 2019/\"\n",
    "print(directory_path) #later remove\n"
   ]
  },
  {
   "cell_type": "code",
   "execution_count": 3,
   "id": "35950ee7",
   "metadata": {},
   "outputs": [
    {
     "data": {
      "text/plain": [
       "['Sales_December_2019.csv',\n",
       " 'Sales_April_2019.csv',\n",
       " 'Sales_February_2019.csv',\n",
       " 'Sales_March_2019.csv',\n",
       " 'Sales_August_2019.csv',\n",
       " 'Sales_May_2019.csv',\n",
       " 'Sales_November_2019.csv',\n",
       " 'Sales_October_2019.csv',\n",
       " 'Sales_January_2019.csv',\n",
       " 'iugigigiguuggg.docx',\n",
       " 'Sales_September_2019.csv',\n",
       " 'Sales_July_2019.csv',\n",
       " 'Sales_June_2019.csv']"
      ]
     },
     "execution_count": 3,
     "metadata": {},
     "output_type": "execute_result"
    }
   ],
   "source": [
    "file_list=os.listdir(directory_path)   #list all the files which are in the \"Sales Analysis 2019\"\n",
    "file_list     #either it will be .csv or .docx files, it display all the files #remove later\n"
   ]
  },
  {
   "cell_type": "code",
   "execution_count": 4,
   "id": "aec83292",
   "metadata": {},
   "outputs": [
    {
     "data": {
      "text/plain": [
       "['Sales_December_2019.csv',\n",
       " 'Sales_April_2019.csv',\n",
       " 'Sales_February_2019.csv',\n",
       " 'Sales_March_2019.csv',\n",
       " 'Sales_August_2019.csv',\n",
       " 'Sales_May_2019.csv',\n",
       " 'Sales_November_2019.csv',\n",
       " 'Sales_October_2019.csv',\n",
       " 'Sales_January_2019.csv',\n",
       " 'Sales_September_2019.csv',\n",
       " 'Sales_July_2019.csv',\n",
       " 'Sales_June_2019.csv']"
      ]
     },
     "execution_count": 4,
     "metadata": {},
     "output_type": "execute_result"
    }
   ],
   "source": [
    "#Filter out non-CSV files  i.e\n",
    "\n",
    "csv_files=[]\n",
    "for file in file_list:\n",
    "    if file.endswith('.csv'):\n",
    "        csv_files.append(file)\n",
    "csv_files"
   ]
  },
  {
   "cell_type": "code",
   "execution_count": 5,
   "id": "6e97abcc",
   "metadata": {},
   "outputs": [
    {
     "data": {
      "text/html": [
       "<div>\n",
       "<style scoped>\n",
       "    .dataframe tbody tr th:only-of-type {\n",
       "        vertical-align: middle;\n",
       "    }\n",
       "\n",
       "    .dataframe tbody tr th {\n",
       "        vertical-align: top;\n",
       "    }\n",
       "\n",
       "    .dataframe thead th {\n",
       "        text-align: right;\n",
       "    }\n",
       "</style>\n",
       "<table border=\"1\" class=\"dataframe\">\n",
       "  <thead>\n",
       "    <tr style=\"text-align: right;\">\n",
       "      <th></th>\n",
       "      <th>Order ID</th>\n",
       "      <th>Product</th>\n",
       "      <th>Quantity Ordered</th>\n",
       "      <th>Price Each</th>\n",
       "      <th>Order Date</th>\n",
       "      <th>Purchase Address</th>\n",
       "    </tr>\n",
       "  </thead>\n",
       "  <tbody>\n",
       "    <tr>\n",
       "      <th>0</th>\n",
       "      <td>295665.0</td>\n",
       "      <td>Macbook Pro Laptop</td>\n",
       "      <td>1.0</td>\n",
       "      <td>1700.00</td>\n",
       "      <td>12/30/2019 0:01</td>\n",
       "      <td>136 Church St, New York City, NY 10001</td>\n",
       "    </tr>\n",
       "    <tr>\n",
       "      <th>1</th>\n",
       "      <td>295666.0</td>\n",
       "      <td>LG Washing Machine</td>\n",
       "      <td>1.0</td>\n",
       "      <td>600.00</td>\n",
       "      <td>12/29/2019 7:03</td>\n",
       "      <td>562 2nd St, New York City, NY 10001</td>\n",
       "    </tr>\n",
       "    <tr>\n",
       "      <th>2</th>\n",
       "      <td>295667.0</td>\n",
       "      <td>USB-C Charging Cable</td>\n",
       "      <td>1.0</td>\n",
       "      <td>11.95</td>\n",
       "      <td>12/12/2019 18:21</td>\n",
       "      <td>277 Main St, New York City, NY 10001</td>\n",
       "    </tr>\n",
       "    <tr>\n",
       "      <th>3</th>\n",
       "      <td>295668.0</td>\n",
       "      <td>27in FHD Monitor</td>\n",
       "      <td>1.0</td>\n",
       "      <td>149.99</td>\n",
       "      <td>12/22/2019 15:13</td>\n",
       "      <td>410 6th St, San Francisco, CA 94016</td>\n",
       "    </tr>\n",
       "    <tr>\n",
       "      <th>4</th>\n",
       "      <td>295669.0</td>\n",
       "      <td>USB-C Charging Cable</td>\n",
       "      <td>1.0</td>\n",
       "      <td>11.95</td>\n",
       "      <td>12/18/2019 12:38</td>\n",
       "      <td>43 Hill St, Atlanta, GA 30301</td>\n",
       "    </tr>\n",
       "    <tr>\n",
       "      <th>...</th>\n",
       "      <td>...</td>\n",
       "      <td>...</td>\n",
       "      <td>...</td>\n",
       "      <td>...</td>\n",
       "      <td>...</td>\n",
       "      <td>...</td>\n",
       "    </tr>\n",
       "    <tr>\n",
       "      <th>186845</th>\n",
       "      <td>222905.0</td>\n",
       "      <td>AAA Batteries (4-pack)</td>\n",
       "      <td>1.0</td>\n",
       "      <td>2.99</td>\n",
       "      <td>6/7/2019 19:02</td>\n",
       "      <td>795 Pine St, Boston, MA 02215</td>\n",
       "    </tr>\n",
       "    <tr>\n",
       "      <th>186846</th>\n",
       "      <td>222906.0</td>\n",
       "      <td>27in FHD Monitor</td>\n",
       "      <td>1.0</td>\n",
       "      <td>149.99</td>\n",
       "      <td>6/1/2019 19:29</td>\n",
       "      <td>495 North St, New York City, NY 10001</td>\n",
       "    </tr>\n",
       "    <tr>\n",
       "      <th>186847</th>\n",
       "      <td>222907.0</td>\n",
       "      <td>USB-C Charging Cable</td>\n",
       "      <td>1.0</td>\n",
       "      <td>11.95</td>\n",
       "      <td>6/22/2019 18:57</td>\n",
       "      <td>319 Ridge St, San Francisco, CA 94016</td>\n",
       "    </tr>\n",
       "    <tr>\n",
       "      <th>186848</th>\n",
       "      <td>222908.0</td>\n",
       "      <td>USB-C Charging Cable</td>\n",
       "      <td>1.0</td>\n",
       "      <td>11.95</td>\n",
       "      <td>6/26/2019 18:35</td>\n",
       "      <td>916 Main St, San Francisco, CA 94016</td>\n",
       "    </tr>\n",
       "    <tr>\n",
       "      <th>186849</th>\n",
       "      <td>222909.0</td>\n",
       "      <td>AAA Batteries (4-pack)</td>\n",
       "      <td>1.0</td>\n",
       "      <td>2.99</td>\n",
       "      <td>6/25/2019 14:33</td>\n",
       "      <td>209 11th St, Atlanta, GA 30301</td>\n",
       "    </tr>\n",
       "  </tbody>\n",
       "</table>\n",
       "<p>186850 rows × 6 columns</p>\n",
       "</div>"
      ],
      "text/plain": [
       "        Order ID                 Product  Quantity Ordered  Price Each  \\\n",
       "0       295665.0      Macbook Pro Laptop               1.0     1700.00   \n",
       "1       295666.0      LG Washing Machine               1.0      600.00   \n",
       "2       295667.0    USB-C Charging Cable               1.0       11.95   \n",
       "3       295668.0        27in FHD Monitor               1.0      149.99   \n",
       "4       295669.0    USB-C Charging Cable               1.0       11.95   \n",
       "...          ...                     ...               ...         ...   \n",
       "186845  222905.0  AAA Batteries (4-pack)               1.0        2.99   \n",
       "186846  222906.0        27in FHD Monitor               1.0      149.99   \n",
       "186847  222907.0    USB-C Charging Cable               1.0       11.95   \n",
       "186848  222908.0    USB-C Charging Cable               1.0       11.95   \n",
       "186849  222909.0  AAA Batteries (4-pack)               1.0        2.99   \n",
       "\n",
       "              Order Date                        Purchase Address  \n",
       "0        12/30/2019 0:01  136 Church St, New York City, NY 10001  \n",
       "1        12/29/2019 7:03     562 2nd St, New York City, NY 10001  \n",
       "2       12/12/2019 18:21    277 Main St, New York City, NY 10001  \n",
       "3       12/22/2019 15:13     410 6th St, San Francisco, CA 94016  \n",
       "4       12/18/2019 12:38           43 Hill St, Atlanta, GA 30301  \n",
       "...                  ...                                     ...  \n",
       "186845    6/7/2019 19:02           795 Pine St, Boston, MA 02215  \n",
       "186846    6/1/2019 19:29   495 North St, New York City, NY 10001  \n",
       "186847   6/22/2019 18:57   319 Ridge St, San Francisco, CA 94016  \n",
       "186848   6/26/2019 18:35    916 Main St, San Francisco, CA 94016  \n",
       "186849   6/25/2019 14:33          209 11th St, Atlanta, GA 30301  \n",
       "\n",
       "[186850 rows x 6 columns]"
      ]
     },
     "execution_count": 5,
     "metadata": {},
     "output_type": "execute_result"
    }
   ],
   "source": [
    "#herum k huncha\n",
    "merged_data=pd.DataFrame()\n",
    "for file in csv_files: \n",
    "    file_path=os.path.join(directory_path,file)\n",
    "    data=pd.read_csv(file_path)\n",
    "    merged_data=pd.concat([merged_data,data], ignore_index=True)\n",
    "merged_data"
   ]
  },
  {
   "cell_type": "code",
   "execution_count": 6,
   "id": "36c756ab",
   "metadata": {},
   "outputs": [
    {
     "name": "stdout",
     "output_type": "stream",
     "text": [
      "Merged data.csv already exists\n"
     ]
    }
   ],
   "source": [
    "#check if merged data file already exists\n",
    "\n",
    "if os.path.exists('merged_data.csv'):\n",
    "    print(\"Merged data.csv already exists\")\n",
    "else: \n",
    "    #Create an empty DataFrame to store the merged data\n",
    "    '''merged_data=pd.DataFrame()\n",
    "    for file in csv_files: \n",
    "        file_path=os.path.join(directory_path,file)\n",
    "        data=pd.read_csv(file_path)\n",
    "        merged_data=pd.concat([merged_data,data], ignore_index=True)\n",
    "    print(\"Chaina\")'''\n",
    "    merged_data.to_csv('merged_data.csv', index=False)\n",
    "    print(\"Merging of CSV files complete, Merged data saved to merged_data.csv\")\n",
    "\n"
   ]
  },
  {
   "cell_type": "code",
   "execution_count": null,
   "id": "9ebdc087",
   "metadata": {},
   "outputs": [],
   "source": [
    "#Create an empty DataFrame to store the merged data\n",
    "#merged_data=pd.DataFrame()"
   ]
  },
  {
   "cell_type": "code",
   "execution_count": null,
   "id": "ba5ee6c2",
   "metadata": {},
   "outputs": [],
   "source": [
    "'''for file in csv_files:\n",
    "    file_path=os.path.join(directory_path,file)\n",
    "    data=pd.read_csv(file_path)\n",
    "    merged_data=pd.concat([merged_data,data], ignore_index=True)\n",
    "merged_data'''"
   ]
  },
  {
   "cell_type": "code",
   "execution_count": null,
   "id": "2328aead",
   "metadata": {},
   "outputs": [],
   "source": []
  },
  {
   "cell_type": "code",
   "execution_count": null,
   "id": "8f82aeff",
   "metadata": {},
   "outputs": [],
   "source": [
    "'''#Loop through each CSV file, read it into a DataFrame, \n",
    "#and merge it with the merged_data DataFrame\n",
    "for file in csv_files: \n",
    "    file_path=os.path.join(directory_path,file)  #eg: Sales Analysis 2019/Sales_December_2019.csv\n",
    "                                                #Sales Analysis 2019/Sales_April_2019.csv\n",
    "                                                #All twelve months\n",
    "    \n",
    "    data=pd.read_csv(file_path)                 #In the place of file_path will be Sales Analysis 2019/Sales_December_2019.csv and loop till the end of the month\n",
    "    merged_data=merged_data.append(data)        #append the .csv file in the merged_data variable\n",
    "    #merged_data=merged_data.pd.concat([data])'''\n",
    "    \n",
    "\n",
    "\n",
    "    "
   ]
  },
  {
   "cell_type": "code",
   "execution_count": null,
   "id": "46fd09e5",
   "metadata": {},
   "outputs": [],
   "source": [
    "#save the merged data to a CSV file\n",
    "merged_data.to_csv('merged_data.csv', index=False)\n",
    "print(\"Merging of CSV files complete, Merged data saved to merged_data.csv\")"
   ]
  }
 ],
 "metadata": {
  "kernelspec": {
   "display_name": "Python 3 (ipykernel)",
   "language": "python",
   "name": "python3"
  },
  "language_info": {
   "codemirror_mode": {
    "name": "ipython",
    "version": 3
   },
   "file_extension": ".py",
   "mimetype": "text/x-python",
   "name": "python",
   "nbconvert_exporter": "python",
   "pygments_lexer": "ipython3",
   "version": "3.9.13"
  }
 },
 "nbformat": 4,
 "nbformat_minor": 5
}
